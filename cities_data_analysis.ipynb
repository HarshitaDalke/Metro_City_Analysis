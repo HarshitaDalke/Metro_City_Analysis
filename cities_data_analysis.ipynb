{
 "cells": [
  {
   "cell_type": "code",
   "execution_count": 6,
   "id": "f0b2b366-5058-4188-8d29-0a6611e0ec5e",
   "metadata": {},
   "outputs": [
    {
     "data": {
      "text/plain": [
       "<bound method DataFrame.info of                  city        country                      name  year  \\\n",
       "0             Algiers        Algeria             Algiers Metro  2011   \n",
       "1        Buenos Aires      Argentina  Buenos Aires Underground  1913   \n",
       "2             Yerevan        Armenia             Yerevan Metro  1981   \n",
       "3              Sydney      Australia              Sydney Metro  2019   \n",
       "4              Vienna        Austria             Vienna U-Bahn  1976   \n",
       "..                ...            ...                       ...   ...   \n",
       "193          San Juan  United States               Tren Urbano  2004   \n",
       "194  Washington, D.C.  United States          Washington Metro  1976   \n",
       "195          Tashkent     Uzbekistan            Tashkent Metro  1977   \n",
       "196           Caracas      Venezuela             Caracas Metro  1983   \n",
       "197             Hanoi        Vietnam               Hanoi Metro  2021   \n",
       "\n",
       "     year_last_expansion  stations  length_km  annual_ridership_mill  \\\n",
       "0                   2018        19        185                  45.30   \n",
       "1                   2019        90        567                  74.00   \n",
       "2                   1996        10        134                  10.75   \n",
       "3                   2019        13         36                  12.90   \n",
       "4                   2017        98        833                 459.80   \n",
       "..                   ...       ...        ...                    ...   \n",
       "193                 2005        16        172                   1.10   \n",
       "194                 2014        91        188                  68.10   \n",
       "195                 2020        39        571                  38.80   \n",
       "196                 2015        52        672                 358.00   \n",
       "197                 2021        12        131                   0.00   \n",
       "\n",
       "            region  \n",
       "0           africa  \n",
       "1    latin_america  \n",
       "2             asia  \n",
       "3        australia  \n",
       "4           europe  \n",
       "..             ...  \n",
       "193  north_america  \n",
       "194  north_america  \n",
       "195           asia  \n",
       "196  latin_america  \n",
       "197           asia  \n",
       "\n",
       "[198 rows x 9 columns]>"
      ]
     },
     "execution_count": 6,
     "metadata": {},
     "output_type": "execute_result"
    }
   ],
   "source": [
    "import pandas as pd\n",
    "import numpy as np\n",
    "import matplotlib.pyplot as plt\n",
    "import seaborn as sns\n",
    "data = pd.read_csv('metro_countries_cities.csv')\n",
    "df = pd.DataFrame(data)\n",
    "df.head()\n",
    "data.columns\n"
   ]
  },
  {
   "cell_type": "code",
   "execution_count": 10,
   "id": "08dfffd8-ec1a-4cdc-a5bf-1988b635bf7a",
   "metadata": {},
   "outputs": [
    {
     "name": "stdout",
     "output_type": "stream",
     "text": [
      "<class 'pandas.core.frame.DataFrame'>\n",
      "RangeIndex: 198 entries, 0 to 197\n",
      "Data columns (total 9 columns):\n",
      " #   Column                 Non-Null Count  Dtype  \n",
      "---  ------                 --------------  -----  \n",
      " 0   city                   198 non-null    object \n",
      " 1   country                198 non-null    object \n",
      " 2   name                   198 non-null    object \n",
      " 3   year                   198 non-null    int64  \n",
      " 4   year_last_expansion    198 non-null    int64  \n",
      " 5   stations               198 non-null    int64  \n",
      " 6   length_km              198 non-null    int64  \n",
      " 7   annual_ridership_mill  198 non-null    float64\n",
      " 8   region                 198 non-null    object \n",
      "dtypes: float64(1), int64(4), object(4)\n",
      "memory usage: 14.1+ KB\n"
     ]
    }
   ],
   "source": [
    "df.info()"
   ]
  },
  {
   "cell_type": "code",
   "execution_count": 12,
   "id": "9d3e3eb3-0287-4012-9682-199eb7152437",
   "metadata": {},
   "outputs": [
    {
     "data": {
      "text/plain": [
       "(198, 9)"
      ]
     },
     "execution_count": 12,
     "metadata": {},
     "output_type": "execute_result"
    }
   ],
   "source": [
    "data.shape"
   ]
  },
  {
   "cell_type": "code",
   "execution_count": 13,
   "id": "3816b28f-b16b-4c53-b363-11db8fcadfe9",
   "metadata": {},
   "outputs": [
    {
     "data": {
      "text/plain": [
       "[RangeIndex(start=0, stop=198, step=1),\n",
       " Index(['city', 'country', 'name', 'year', 'year_last_expansion', 'stations',\n",
       "        'length_km', 'annual_ridership_mill', 'region'],\n",
       "       dtype='object')]"
      ]
     },
     "execution_count": 13,
     "metadata": {},
     "output_type": "execute_result"
    }
   ],
   "source": [
    "data.axes"
   ]
  },
  {
   "cell_type": "code",
   "execution_count": 14,
   "id": "385cdd64-5e06-4019-8277-c1465d60f9da",
   "metadata": {},
   "outputs": [
    {
     "data": {
      "text/plain": [
       "1782"
      ]
     },
     "execution_count": 14,
     "metadata": {},
     "output_type": "execute_result"
    }
   ],
   "source": [
    "data.size"
   ]
  },
  {
   "cell_type": "code",
   "execution_count": 15,
   "id": "627aaca8-936d-45ca-9409-a1560ada49fa",
   "metadata": {},
   "outputs": [
    {
     "data": {
      "text/plain": [
       "2"
      ]
     },
     "execution_count": 15,
     "metadata": {},
     "output_type": "execute_result"
    }
   ],
   "source": [
    "data.ndim"
   ]
  },
  {
   "cell_type": "code",
   "execution_count": 16,
   "id": "71d4abab-b8cb-468b-b6ed-94769bf11718",
   "metadata": {},
   "outputs": [
    {
     "data": {
      "text/html": [
       "<div>\n",
       "<style scoped>\n",
       "    .dataframe tbody tr th:only-of-type {\n",
       "        vertical-align: middle;\n",
       "    }\n",
       "\n",
       "    .dataframe tbody tr th {\n",
       "        vertical-align: top;\n",
       "    }\n",
       "\n",
       "    .dataframe thead th {\n",
       "        text-align: right;\n",
       "    }\n",
       "</style>\n",
       "<table border=\"1\" class=\"dataframe\">\n",
       "  <thead>\n",
       "    <tr style=\"text-align: right;\">\n",
       "      <th></th>\n",
       "      <th>city</th>\n",
       "      <th>country</th>\n",
       "      <th>name</th>\n",
       "      <th>year</th>\n",
       "      <th>year_last_expansion</th>\n",
       "      <th>stations</th>\n",
       "      <th>length_km</th>\n",
       "      <th>annual_ridership_mill</th>\n",
       "      <th>region</th>\n",
       "    </tr>\n",
       "  </thead>\n",
       "  <tbody>\n",
       "    <tr>\n",
       "      <th>0</th>\n",
       "      <td>Algiers</td>\n",
       "      <td>Algeria</td>\n",
       "      <td>Algiers Metro</td>\n",
       "      <td>2011</td>\n",
       "      <td>2018</td>\n",
       "      <td>19</td>\n",
       "      <td>185</td>\n",
       "      <td>45.30</td>\n",
       "      <td>africa</td>\n",
       "    </tr>\n",
       "    <tr>\n",
       "      <th>1</th>\n",
       "      <td>Buenos Aires</td>\n",
       "      <td>Argentina</td>\n",
       "      <td>Buenos Aires Underground</td>\n",
       "      <td>1913</td>\n",
       "      <td>2019</td>\n",
       "      <td>90</td>\n",
       "      <td>567</td>\n",
       "      <td>74.00</td>\n",
       "      <td>latin_america</td>\n",
       "    </tr>\n",
       "    <tr>\n",
       "      <th>2</th>\n",
       "      <td>Yerevan</td>\n",
       "      <td>Armenia</td>\n",
       "      <td>Yerevan Metro</td>\n",
       "      <td>1981</td>\n",
       "      <td>1996</td>\n",
       "      <td>10</td>\n",
       "      <td>134</td>\n",
       "      <td>10.75</td>\n",
       "      <td>asia</td>\n",
       "    </tr>\n",
       "    <tr>\n",
       "      <th>3</th>\n",
       "      <td>Sydney</td>\n",
       "      <td>Australia</td>\n",
       "      <td>Sydney Metro</td>\n",
       "      <td>2019</td>\n",
       "      <td>2019</td>\n",
       "      <td>13</td>\n",
       "      <td>36</td>\n",
       "      <td>12.90</td>\n",
       "      <td>australia</td>\n",
       "    </tr>\n",
       "    <tr>\n",
       "      <th>4</th>\n",
       "      <td>Vienna</td>\n",
       "      <td>Austria</td>\n",
       "      <td>Vienna U-Bahn</td>\n",
       "      <td>1976</td>\n",
       "      <td>2017</td>\n",
       "      <td>98</td>\n",
       "      <td>833</td>\n",
       "      <td>459.80</td>\n",
       "      <td>europe</td>\n",
       "    </tr>\n",
       "  </tbody>\n",
       "</table>\n",
       "</div>"
      ],
      "text/plain": [
       "           city    country                      name  year  \\\n",
       "0       Algiers    Algeria             Algiers Metro  2011   \n",
       "1  Buenos Aires  Argentina  Buenos Aires Underground  1913   \n",
       "2       Yerevan    Armenia             Yerevan Metro  1981   \n",
       "3        Sydney  Australia              Sydney Metro  2019   \n",
       "4        Vienna    Austria             Vienna U-Bahn  1976   \n",
       "\n",
       "   year_last_expansion  stations  length_km  annual_ridership_mill  \\\n",
       "0                 2018        19        185                  45.30   \n",
       "1                 2019        90        567                  74.00   \n",
       "2                 1996        10        134                  10.75   \n",
       "3                 2019        13         36                  12.90   \n",
       "4                 2017        98        833                 459.80   \n",
       "\n",
       "          region  \n",
       "0         africa  \n",
       "1  latin_america  \n",
       "2           asia  \n",
       "3      australia  \n",
       "4         europe  "
      ]
     },
     "execution_count": 16,
     "metadata": {},
     "output_type": "execute_result"
    }
   ],
   "source": [
    "data.head()"
   ]
  },
  {
   "cell_type": "code",
   "execution_count": 17,
   "id": "095fad7d-b22a-4cc4-89ec-bfb75188dc10",
   "metadata": {},
   "outputs": [
    {
     "data": {
      "text/html": [
       "<div>\n",
       "<style scoped>\n",
       "    .dataframe tbody tr th:only-of-type {\n",
       "        vertical-align: middle;\n",
       "    }\n",
       "\n",
       "    .dataframe tbody tr th {\n",
       "        vertical-align: top;\n",
       "    }\n",
       "\n",
       "    .dataframe thead th {\n",
       "        text-align: right;\n",
       "    }\n",
       "</style>\n",
       "<table border=\"1\" class=\"dataframe\">\n",
       "  <thead>\n",
       "    <tr style=\"text-align: right;\">\n",
       "      <th></th>\n",
       "      <th>year</th>\n",
       "      <th>year_last_expansion</th>\n",
       "      <th>stations</th>\n",
       "      <th>length_km</th>\n",
       "      <th>annual_ridership_mill</th>\n",
       "    </tr>\n",
       "  </thead>\n",
       "  <tbody>\n",
       "    <tr>\n",
       "      <th>count</th>\n",
       "      <td>198.000000</td>\n",
       "      <td>198.000000</td>\n",
       "      <td>198.000000</td>\n",
       "      <td>198.000000</td>\n",
       "      <td>198.000000</td>\n",
       "    </tr>\n",
       "    <tr>\n",
       "      <th>mean</th>\n",
       "      <td>1987.858586</td>\n",
       "      <td>2014.565657</td>\n",
       "      <td>68.939394</td>\n",
       "      <td>1506.595960</td>\n",
       "      <td>263.254980</td>\n",
       "    </tr>\n",
       "    <tr>\n",
       "      <th>std</th>\n",
       "      <td>31.617161</td>\n",
       "      <td>13.167921</td>\n",
       "      <td>76.200753</td>\n",
       "      <td>4900.037419</td>\n",
       "      <td>482.654133</td>\n",
       "    </tr>\n",
       "    <tr>\n",
       "      <th>min</th>\n",
       "      <td>1890.000000</td>\n",
       "      <td>1896.000000</td>\n",
       "      <td>6.000000</td>\n",
       "      <td>12.000000</td>\n",
       "      <td>0.000000</td>\n",
       "    </tr>\n",
       "    <tr>\n",
       "      <th>25%</th>\n",
       "      <td>1976.000000</td>\n",
       "      <td>2014.000000</td>\n",
       "      <td>21.000000</td>\n",
       "      <td>175.000000</td>\n",
       "      <td>24.025000</td>\n",
       "    </tr>\n",
       "    <tr>\n",
       "      <th>50%</th>\n",
       "      <td>1995.500000</td>\n",
       "      <td>2019.000000</td>\n",
       "      <td>41.000000</td>\n",
       "      <td>392.000000</td>\n",
       "      <td>92.950000</td>\n",
       "    </tr>\n",
       "    <tr>\n",
       "      <th>75%</th>\n",
       "      <td>2012.750000</td>\n",
       "      <td>2021.000000</td>\n",
       "      <td>90.750000</td>\n",
       "      <td>1001.250000</td>\n",
       "      <td>247.925000</td>\n",
       "    </tr>\n",
       "    <tr>\n",
       "      <th>max</th>\n",
       "      <td>2022.000000</td>\n",
       "      <td>2022.000000</td>\n",
       "      <td>424.000000</td>\n",
       "      <td>49039.000000</td>\n",
       "      <td>2834.690000</td>\n",
       "    </tr>\n",
       "  </tbody>\n",
       "</table>\n",
       "</div>"
      ],
      "text/plain": [
       "              year  year_last_expansion    stations     length_km  \\\n",
       "count   198.000000           198.000000  198.000000    198.000000   \n",
       "mean   1987.858586          2014.565657   68.939394   1506.595960   \n",
       "std      31.617161            13.167921   76.200753   4900.037419   \n",
       "min    1890.000000          1896.000000    6.000000     12.000000   \n",
       "25%    1976.000000          2014.000000   21.000000    175.000000   \n",
       "50%    1995.500000          2019.000000   41.000000    392.000000   \n",
       "75%    2012.750000          2021.000000   90.750000   1001.250000   \n",
       "max    2022.000000          2022.000000  424.000000  49039.000000   \n",
       "\n",
       "       annual_ridership_mill  \n",
       "count             198.000000  \n",
       "mean              263.254980  \n",
       "std               482.654133  \n",
       "min                 0.000000  \n",
       "25%                24.025000  \n",
       "50%                92.950000  \n",
       "75%               247.925000  \n",
       "max              2834.690000  "
      ]
     },
     "execution_count": 17,
     "metadata": {},
     "output_type": "execute_result"
    }
   ],
   "source": [
    "data.describe()"
   ]
  },
  {
   "cell_type": "code",
   "execution_count": 19,
   "id": "da06d8ca-caa6-43b8-9ea6-ce75ac0c6b2a",
   "metadata": {},
   "outputs": [
    {
     "name": "stdout",
     "output_type": "stream",
     "text": [
      "6\n",
      "59\n"
     ]
    }
   ],
   "source": [
    "print(len(data.region.unique()))\n",
    "print(len(data.country.unique()))"
   ]
  },
  {
   "cell_type": "code",
   "execution_count": 20,
   "id": "43c7fc83-5abf-4fd7-be79-d3caa80b9cee",
   "metadata": {},
   "outputs": [
    {
     "name": "stdout",
     "output_type": "stream",
     "text": [
      "['Algeria' 'Argentina' 'Armenia' 'Australia' 'Austria' 'Azerbaijan'\n",
      " 'Belarus' 'Belgium' 'Brazil' 'Bulgaria' 'Canada' 'Chile' 'China'\n",
      " 'Colombia' 'Czech Republic' 'Denmark' 'Dominican Republic' 'Egypt'\n",
      " 'Finland' 'France' 'Georgia' 'Germany' 'Greece' 'Hungary' 'India'\n",
      " 'Indonesia' 'Iran' 'Italy' 'Japan' 'Kazakhstan' 'North Korea'\n",
      " 'South Korea' 'Malaysia' 'Mexico' 'Netherlands' 'Norway' 'Pakistan'\n",
      " 'Panama' 'Peru' 'Philippines' 'Poland' 'Portugal' 'Qatar' 'Romania'\n",
      " 'Russia' 'Singapore' 'Spain' 'Sweden' 'Switzerland' 'Taiwan' 'Thailand'\n",
      " 'Turkey' 'Ukraine' 'United Arab Emirates' 'United Kingdom'\n",
      " 'United States' 'Uzbekistan' 'Venezuela' 'Vietnam']\n"
     ]
    }
   ],
   "source": [
    "print(data.country.unique())"
   ]
  },
  {
   "cell_type": "code",
   "execution_count": 23,
   "id": "b3e783e0-6dd2-423a-836d-eb2d3a7732bd",
   "metadata": {},
   "outputs": [
    {
     "name": "stdout",
     "output_type": "stream",
     "text": [
      "0      False\n",
      "1      False\n",
      "2      False\n",
      "3      False\n",
      "4      False\n",
      "       ...  \n",
      "193    False\n",
      "194    False\n",
      "195    False\n",
      "196    False\n",
      "197    False\n",
      "Name: country, Length: 198, dtype: bool\n"
     ]
    }
   ],
   "source": [
    "print(data.country == 'India')"
   ]
  },
  {
   "cell_type": "code",
   "execution_count": 33,
   "id": "b6fb56b7-3c29-4c82-987b-e84a42fb5227",
   "metadata": {},
   "outputs": [
    {
     "name": "stdout",
     "output_type": "stream",
     "text": [
      "15\n",
      "['Ahmedabad' 'Bengaluru' 'Chennai' 'Delhi' 'Gurgaon' 'Hyderabad' 'Jaipur'\n",
      " 'Kanpur' 'Kochi' 'Kolkata' 'Lucknow' 'Mumbai' 'Nagpur' 'Noida' 'Pune']\n"
     ]
    }
   ],
   "source": [
    "data_india = data[data.country == 'India']\n",
    "print(len(data_india))\n",
    "print((data_india.city.unique()))"
   ]
  },
  {
   "cell_type": "code",
   "execution_count": 28,
   "id": "85765e4d-929f-4349-b401-4095d44999a0",
   "metadata": {},
   "outputs": [
    {
     "name": "stdout",
     "output_type": "stream",
     "text": [
      "187\n",
      "['Algiers' 'Buenos Aires' 'Yerevan' 'Sydney' 'Vienna' 'Baku' 'Minsk'\n",
      " 'Brussels' 'Belo Horizonte' 'Brasília' 'Porto Alegre' 'Recife'\n",
      " 'Rio de Janeiro' 'Salvador' 'São Paulo' 'Sofia' 'Montreal' 'Toronto'\n",
      " 'Vancouver' 'Santiago' 'Beijing' 'Changchun' 'Changsha' 'Changzhou'\n",
      " 'Chengdu' 'Chongqing' 'Dalian' 'Dongguan' 'Foshan' 'Fuzhou' 'Guangzhou'\n",
      " 'Guiyang' 'Hangzhou' 'Harbin' 'Hefei' 'Hohhot' 'Hong Kong' 'Jinan'\n",
      " 'Kunming' 'Lanzhou' 'Luoyang' 'Nanchang' 'Nanjing' 'Nanning' 'Ningbo'\n",
      " 'Qingdao' 'Shanghai' 'Shaoxing' 'Shenyang' 'Shenzhen' 'Shijiazhuang'\n",
      " 'Suzhou' 'Taiyuan' 'Tianjin' 'Ürümqi' 'Wenzhou' 'Wuhan' 'Wuhu' 'Wuxi'\n",
      " 'Xiamen' \"Xi'an\" 'Xuzhou' 'Zhengzhou' 'Medellín' 'Prague' 'Copenhagen'\n",
      " 'Santo Domingo' 'Cairo' 'Helsinki' 'Lille' 'Lyon' 'Marseille' 'Paris'\n",
      " 'Rennes' 'Toulouse' 'Tbilisi' 'Berlin' 'Hamburg' 'Munich' 'Nuremberg'\n",
      " 'Athens' 'Budapest' 'Ahmedabad' 'Bengaluru' 'Chennai' 'Delhi' 'Gurgaon'\n",
      " 'Hyderabad' 'Jaipur' 'Kanpur' 'Kochi' 'Kolkata' 'Lucknow' 'Mumbai'\n",
      " 'Nagpur' 'Noida' 'Pune' 'Jakarta' 'Isfahan' 'Mashhad' 'Shiraz' 'Tabriz'\n",
      " 'Tehran' 'Brescia' 'Catania' 'Genoa' 'Milan' 'Naples' 'Rome' 'Turin'\n",
      " 'Fukuoka' 'Hiroshima' 'Kobe' 'Kyoto' 'Nagoya' 'Osaka' 'Sapporo' 'Sendai'\n",
      " 'Tokyo' 'Yokohama' 'Almaty' 'Pyongyang' 'Busan' 'Daegu' 'Daejeon'\n",
      " 'Gwangju' 'Incheon' 'Seoul' 'Kuala Lumpur' 'Guadalajara' 'Mexico City'\n",
      " 'Monterrey' 'Amsterdam' 'Rotterdam' 'Oslo' 'Lahore' 'Panama City' 'Lima'\n",
      " 'Manila' 'Warsaw' 'Lisbon' 'Doha' 'Bucharest' 'Kazan' 'Moscow'\n",
      " 'Nizhny Novgorod' 'Novosibirsk' 'Saint Petersburg' 'Samara'\n",
      " 'Yekaterinburg' 'Singapore' 'Barcelona' 'Bilbao' 'Madrid' 'Stockholm'\n",
      " 'Lausanne' 'Kaohsiung' 'Taipei' 'Taichung' 'Taoyuan' 'Bangkok' 'Adana'\n",
      " 'Ankara' 'Bursa' 'Istanbul' 'İzmir' 'Dnipro' 'Kharkiv' 'Kyiv' 'Dubai'\n",
      " 'Glasgow' 'London' 'Atlanta' 'Baltimore' 'Boston' 'Chicago' 'Cleveland'\n",
      " 'Los Angeles' 'Miami' 'New York City' 'Philadelphia'\n",
      " 'San Francisco/Oakland' 'San Juan' 'Washington, D.C.' 'Tashkent'\n",
      " 'Caracas' 'Hanoi']\n"
     ]
    }
   ],
   "source": [
    "print(len(data.city.unique()))\n",
    "print(data.city.unique())"
   ]
  },
  {
   "cell_type": "code",
   "execution_count": 37,
   "id": "e607bcbb-22c8-4c30-a454-6028a829e785",
   "metadata": {},
   "outputs": [
    {
     "data": {
      "text/plain": [
       "<seaborn.axisgrid.FacetGrid at 0x22f94451be0>"
      ]
     },
     "execution_count": 37,
     "metadata": {},
     "output_type": "execute_result"
    },
    {
     "data": {
      "image/png": "[encoded data removed]",
      "text/plain": [
       "<Figure size 500x500 with 1 Axes>"
      ]
     },
     "metadata": {},
     "output_type": "display_data"
    }
   ],
   "source": [
    "#distribution plots of each parameter\n",
    "sns.displot(data['year'], bins = 5)\n",
    "\n"
   ]
  },
  {
   "cell_type": "code",
   "execution_count": null,
   "id": "76df2f51-577a-421e-a099-b8b6e1187047",
   "metadata": {},
   "outputs": [],
   "source": [
    "# 👉 The plot is telling “most metro systems in the dataset were built after 1950, with a big boom around 2000–2020.”\n",
    "# Earlier, very few existed, and only recently there’s been a large expansion worldwide."
   ]
  },
  {
   "cell_type": "code",
   "execution_count": 40,
   "id": "5906461f-b313-418a-9f8a-1f761683ad0a",
   "metadata": {},
   "outputs": [
    {
     "name": "stderr",
     "output_type": "stream",
     "text": [
      "C:\\Users\\hp\\AppData\\Local\\Temp\\ipykernel_10280\\658997377.py:1: UserWarning: \n",
      "\n",
      "`distplot` is a deprecated function and will be removed in seaborn v0.14.0.\n",
      "\n",
      "Please adapt your code to use either `displot` (a figure-level function with\n",
      "similar flexibility) or `histplot` (an axes-level function for histograms).\n",
      "\n",
      "For a guide to updating your code to use the new functions, please see\n",
      "https://gist.github.com/mwaskom/de44147ed2974457ad6372750bbe5751\n",
      "\n",
      "  sns.distplot(data['stations'], bins = 5)\n"
     ]
    },
    {
     "data": {
      "text/plain": [
       "<Axes: xlabel='stations', ylabel='Density'>"
      ]
     },
     "execution_count": 40,
     "metadata": {},
     "output_type": "execute_result"
    },
    {
     "data": {
      "image/png": "[encoded data removed]",
      "text/plain": [
       "<Figure size 640x480 with 1 Axes>"
      ]
     },
     "metadata": {},
     "output_type": "display_data"
    }
   ],
   "source": [
    "sns.distplot(data['stations'], bins = 5)"
   ]
  },
  {
   "cell_type": "code",
   "execution_count": null,
   "id": "38f1edd3-8ebc-44e6-bdf8-3f626689fb00",
   "metadata": {},
   "outputs": [],
   "source": [
    "# 👉 This chart says:\n",
    "\n",
    "# Most metro networks around the world are relatively small (less than 100 stations).\n",
    "\n",
    "# Only a few big cities (like London, New York, Beijing) have very large metro networks with hundreds of stations."
   ]
  },
  {
   "cell_type": "code",
   "execution_count": 42,
   "id": "c498b858-33ef-48c5-9d6f-a7301ece75e9",
   "metadata": {},
   "outputs": [
    {
     "name": "stderr",
     "output_type": "stream",
     "text": [
      "C:\\Users\\hp\\AppData\\Local\\Temp\\ipykernel_10280\\1083329157.py:1: UserWarning: \n",
      "\n",
      "`distplot` is a deprecated function and will be removed in seaborn v0.14.0.\n",
      "\n",
      "Please adapt your code to use either `displot` (a figure-level function with\n",
      "similar flexibility) or `histplot` (an axes-level function for histograms).\n",
      "\n",
      "For a guide to updating your code to use the new functions, please see\n",
      "https://gist.github.com/mwaskom/de44147ed2974457ad6372750bbe5751\n",
      "\n",
      "  sns.distplot(data['annual_ridership_mill'],bins = 10)\n"
     ]
    },
    {
     "data": {
      "text/plain": [
       "<Axes: xlabel='annual_ridership_mill', ylabel='Density'>"
      ]
     },
     "execution_count": 42,
     "metadata": {},
     "output_type": "execute_result"
    },
    {
     "data": {
      "image/png": "[encoded data removed]",
      "text/plain": [
       "<Figure size 640x480 with 1 Axes>"
      ]
     },
     "metadata": {},
     "output_type": "display_data"
    }
   ],
   "source": [
    "sns.distplot(data['annual_ridership_mill'],bins = 10)"
   ]
  },
  {
   "cell_type": "code",
   "execution_count": null,
   "id": "794ca02a-da95-483d-abff-026e6e2a0303",
   "metadata": {},
   "outputs": [],
   "source": [
    "# 👉 This plot says:\n",
    "\n",
    "# Most metro systems serve fewer than 500 million passengers per year.\n",
    "\n",
    "# Only a few mega-systems serve billions of passengers annually.\n",
    "\n",
    "# The world’s busiest metro systems are statistical outliers compared to most others."
   ]
  },
  {
   "cell_type": "code",
   "execution_count": 43,
   "id": "505f2300-9cb7-4440-b01a-a3d55a986e94",
   "metadata": {},
   "outputs": [
    {
     "data": {
      "text/plain": [
       "<Axes: xlabel='annual_ridership_mill', ylabel='Count'>"
      ]
     },
     "execution_count": 43,
     "metadata": {},
     "output_type": "execute_result"
    },
    {
     "data": {
      "image/png": "[encoded data removed]",
      "text/plain": [
       "<Figure size 640x480 with 1 Axes>"
      ]
     },
     "metadata": {},
     "output_type": "display_data"
    }
   ],
   "source": [
    "sns.histplot(data['annual_ridership_mill'], log_scale=True, bins=30)\n"
   ]
  },
  {
   "cell_type": "code",
   "execution_count": 44,
   "id": "f4acfffc-118b-454a-a9a9-6215155d5a13",
   "metadata": {},
   "outputs": [
    {
     "data": {
      "text/plain": [
       "<Axes: ylabel='year'>"
      ]
     },
     "execution_count": 44,
     "metadata": {},
     "output_type": "execute_result"
    },
    {
     "data": {
      "image/png": "[encoded data removed]",
      "text/plain": [
       "<Figure size 640x480 with 1 Axes>"
      ]
     },
     "metadata": {},
     "output_type": "display_data"
    }
   ],
   "source": [
    "#Outlier analysis with boxplot \n",
    "sns.boxplot(data['year'])"
   ]
  },
  {
   "cell_type": "code",
   "execution_count": 45,
   "id": "ce1e81ac-c71c-47d4-b374-686d9e45e225",
   "metadata": {},
   "outputs": [
    {
     "data": {
      "text/plain": [
       "<Axes: ylabel='region'>"
      ]
     },
     "execution_count": 45,
     "metadata": {},
     "output_type": "execute_result"
    },
    {
     "data": {
      "image/png": "[encoded data removed]",
      "text/plain": [
       "<Figure size 640x480 with 1 Axes>"
      ]
     },
     "metadata": {},
     "output_type": "display_data"
    }
   ],
   "source": [
    "sns.boxplot(data['region'])"
   ]
  },
  {
   "cell_type": "code",
   "execution_count": 55,
   "id": "615d9ebf-d7fa-47ff-b28e-e134b745247f",
   "metadata": {},
   "outputs": [
    {
     "data": {
      "text/html": [
       "<div>\n",
       "<style scoped>\n",
       "    .dataframe tbody tr th:only-of-type {\n",
       "        vertical-align: middle;\n",
       "    }\n",
       "\n",
       "    .dataframe tbody tr th {\n",
       "        vertical-align: top;\n",
       "    }\n",
       "\n",
       "    .dataframe thead th {\n",
       "        text-align: right;\n",
       "    }\n",
       "</style>\n",
       "<table border=\"1\" class=\"dataframe\">\n",
       "  <thead>\n",
       "    <tr style=\"text-align: right;\">\n",
       "      <th></th>\n",
       "      <th>city</th>\n",
       "      <th>country</th>\n",
       "      <th>name</th>\n",
       "      <th>year</th>\n",
       "      <th>year_last_expansion</th>\n",
       "      <th>stations</th>\n",
       "      <th>length_km</th>\n",
       "      <th>annual_ridership_mill</th>\n",
       "      <th>region</th>\n",
       "    </tr>\n",
       "  </thead>\n",
       "  <tbody>\n",
       "    <tr>\n",
       "      <th>1</th>\n",
       "      <td>Buenos Aires</td>\n",
       "      <td>Argentina</td>\n",
       "      <td>Buenos Aires Underground</td>\n",
       "      <td>1913</td>\n",
       "      <td>2019</td>\n",
       "      <td>90</td>\n",
       "      <td>567</td>\n",
       "      <td>74.00</td>\n",
       "      <td>latin_america</td>\n",
       "    </tr>\n",
       "    <tr>\n",
       "      <th>72</th>\n",
       "      <td>Paris</td>\n",
       "      <td>France</td>\n",
       "      <td>Paris Métro</td>\n",
       "      <td>1900</td>\n",
       "      <td>2022</td>\n",
       "      <td>306</td>\n",
       "      <td>2251</td>\n",
       "      <td>753.00</td>\n",
       "      <td>europe</td>\n",
       "    </tr>\n",
       "    <tr>\n",
       "      <th>76</th>\n",
       "      <td>Berlin</td>\n",
       "      <td>Germany</td>\n",
       "      <td>Berlin U-Bahn</td>\n",
       "      <td>1902</td>\n",
       "      <td>2021</td>\n",
       "      <td>175</td>\n",
       "      <td>1478</td>\n",
       "      <td>596.00</td>\n",
       "      <td>europe</td>\n",
       "    </tr>\n",
       "    <tr>\n",
       "      <th>77</th>\n",
       "      <td>Hamburg</td>\n",
       "      <td>Germany</td>\n",
       "      <td>Hamburg U-Bahn</td>\n",
       "      <td>1912</td>\n",
       "      <td>2019</td>\n",
       "      <td>93</td>\n",
       "      <td>1058</td>\n",
       "      <td>249.50</td>\n",
       "      <td>europe</td>\n",
       "    </tr>\n",
       "    <tr>\n",
       "      <th>80</th>\n",
       "      <td>Athens</td>\n",
       "      <td>Greece</td>\n",
       "      <td>Athens Metro</td>\n",
       "      <td>1904</td>\n",
       "      <td>2020</td>\n",
       "      <td>64</td>\n",
       "      <td>887</td>\n",
       "      <td>259.20</td>\n",
       "      <td>europe</td>\n",
       "    </tr>\n",
       "    <tr>\n",
       "      <th>81</th>\n",
       "      <td>Budapest</td>\n",
       "      <td>Hungary</td>\n",
       "      <td>Budapest Metro</td>\n",
       "      <td>1896</td>\n",
       "      <td>2014</td>\n",
       "      <td>48</td>\n",
       "      <td>382</td>\n",
       "      <td>232.80</td>\n",
       "      <td>europe</td>\n",
       "    </tr>\n",
       "    <tr>\n",
       "      <th>157</th>\n",
       "      <td>Barcelona</td>\n",
       "      <td>Spain</td>\n",
       "      <td>Barcelona Metro</td>\n",
       "      <td>1924</td>\n",
       "      <td>2021</td>\n",
       "      <td>166</td>\n",
       "      <td>1472</td>\n",
       "      <td>217.93</td>\n",
       "      <td>europe</td>\n",
       "    </tr>\n",
       "    <tr>\n",
       "      <th>159</th>\n",
       "      <td>Madrid</td>\n",
       "      <td>Spain</td>\n",
       "      <td>Madrid Metro</td>\n",
       "      <td>1919</td>\n",
       "      <td>2019</td>\n",
       "      <td>242</td>\n",
       "      <td>2885</td>\n",
       "      <td>349.80</td>\n",
       "      <td>europe</td>\n",
       "    </tr>\n",
       "    <tr>\n",
       "      <th>177</th>\n",
       "      <td>Glasgow</td>\n",
       "      <td>United Kingdom</td>\n",
       "      <td>Glasgow Subway</td>\n",
       "      <td>1896</td>\n",
       "      <td>1896</td>\n",
       "      <td>15</td>\n",
       "      <td>104</td>\n",
       "      <td>12.70</td>\n",
       "      <td>europe</td>\n",
       "    </tr>\n",
       "    <tr>\n",
       "      <th>178</th>\n",
       "      <td>London</td>\n",
       "      <td>United Kingdom</td>\n",
       "      <td>London Underground</td>\n",
       "      <td>1890</td>\n",
       "      <td>2021</td>\n",
       "      <td>272</td>\n",
       "      <td>4052</td>\n",
       "      <td>296.00</td>\n",
       "      <td>europe</td>\n",
       "    </tr>\n",
       "    <tr>\n",
       "      <th>182</th>\n",
       "      <td>Boston</td>\n",
       "      <td>United States</td>\n",
       "      <td>MBTA subway</td>\n",
       "      <td>1901</td>\n",
       "      <td>2014</td>\n",
       "      <td>51</td>\n",
       "      <td>61</td>\n",
       "      <td>57.50</td>\n",
       "      <td>north_america</td>\n",
       "    </tr>\n",
       "    <tr>\n",
       "      <th>183</th>\n",
       "      <td>Chicago</td>\n",
       "      <td>United States</td>\n",
       "      <td>Chicago \"L\"</td>\n",
       "      <td>1892</td>\n",
       "      <td>2017</td>\n",
       "      <td>145</td>\n",
       "      <td>1654</td>\n",
       "      <td>76.00</td>\n",
       "      <td>north_america</td>\n",
       "    </tr>\n",
       "    <tr>\n",
       "      <th>187</th>\n",
       "      <td>New York City</td>\n",
       "      <td>United States</td>\n",
       "      <td>New York City Subway</td>\n",
       "      <td>1904</td>\n",
       "      <td>2017</td>\n",
       "      <td>424</td>\n",
       "      <td>399</td>\n",
       "      <td>639.50</td>\n",
       "      <td>north_america</td>\n",
       "    </tr>\n",
       "    <tr>\n",
       "      <th>189</th>\n",
       "      <td>New York City</td>\n",
       "      <td>United States</td>\n",
       "      <td>PATH</td>\n",
       "      <td>1908</td>\n",
       "      <td>1937</td>\n",
       "      <td>13</td>\n",
       "      <td>222</td>\n",
       "      <td>29.70</td>\n",
       "      <td>north_america</td>\n",
       "    </tr>\n",
       "    <tr>\n",
       "      <th>190</th>\n",
       "      <td>Philadelphia</td>\n",
       "      <td>United States</td>\n",
       "      <td>SEPTA</td>\n",
       "      <td>1907</td>\n",
       "      <td>1973</td>\n",
       "      <td>75</td>\n",
       "      <td>591</td>\n",
       "      <td>37.70</td>\n",
       "      <td>north_america</td>\n",
       "    </tr>\n",
       "  </tbody>\n",
       "</table>\n",
       "</div>"
      ],
      "text/plain": [
       "              city         country                      name  year  \\\n",
       "1     Buenos Aires       Argentina  Buenos Aires Underground  1913   \n",
       "72           Paris          France               Paris Métro  1900   \n",
       "76          Berlin         Germany             Berlin U-Bahn  1902   \n",
       "77         Hamburg         Germany            Hamburg U-Bahn  1912   \n",
       "80          Athens          Greece              Athens Metro  1904   \n",
       "81        Budapest         Hungary            Budapest Metro  1896   \n",
       "157      Barcelona           Spain           Barcelona Metro  1924   \n",
       "159         Madrid           Spain              Madrid Metro  1919   \n",
       "177        Glasgow  United Kingdom            Glasgow Subway  1896   \n",
       "178         London  United Kingdom        London Underground  1890   \n",
       "182         Boston   United States               MBTA subway  1901   \n",
       "183        Chicago   United States               Chicago \"L\"  1892   \n",
       "187  New York City   United States      New York City Subway  1904   \n",
       "189  New York City   United States                      PATH  1908   \n",
       "190   Philadelphia   United States                     SEPTA  1907   \n",
       "\n",
       "     year_last_expansion  stations  length_km  annual_ridership_mill  \\\n",
       "1                   2019        90        567                  74.00   \n",
       "72                  2022       306       2251                 753.00   \n",
       "76                  2021       175       1478                 596.00   \n",
       "77                  2019        93       1058                 249.50   \n",
       "80                  2020        64        887                 259.20   \n",
       "81                  2014        48        382                 232.80   \n",
       "157                 2021       166       1472                 217.93   \n",
       "159                 2019       242       2885                 349.80   \n",
       "177                 1896        15        104                  12.70   \n",
       "178                 2021       272       4052                 296.00   \n",
       "182                 2014        51         61                  57.50   \n",
       "183                 2017       145       1654                  76.00   \n",
       "187                 2017       424        399                 639.50   \n",
       "189                 1937        13        222                  29.70   \n",
       "190                 1973        75        591                  37.70   \n",
       "\n",
       "            region  \n",
       "1    latin_america  \n",
       "72          europe  \n",
       "76          europe  \n",
       "77          europe  \n",
       "80          europe  \n",
       "81          europe  \n",
       "157         europe  \n",
       "159         europe  \n",
       "177         europe  \n",
       "178         europe  \n",
       "182  north_america  \n",
       "183  north_america  \n",
       "187  north_america  \n",
       "189  north_america  \n",
       "190  north_america  "
      ]
     },
     "execution_count": 55,
     "metadata": {},
     "output_type": "execute_result"
    }
   ],
   "source": [
    "data_early_year = data.loc[data['year'] < 1925]\n",
    "\n",
    "data_early_year"
   ]
  },
  {
   "cell_type": "code",
   "execution_count": 52,
   "id": "f7e67c68-5e69-46a4-9606-7cbb35ad585c",
   "metadata": {},
   "outputs": [
    {
     "data": {
      "text/plain": [
       "<Axes: xlabel='stations', ylabel='city'>"
      ]
     },
     "execution_count": 52,
     "metadata": {},
     "output_type": "execute_result"
    },
    {
     "data": {
      "image/png": "[encoded data removed]",
      "text/plain": [
       "<Figure size 500x1000 with 1 Axes>"
      ]
     },
     "metadata": {},
     "output_type": "display_data"
    }
   ],
   "source": [
    "plt.figure(figsize = (5,10))\n",
    "sns.barplot(x = 'stations', y = 'city', hue = 'region', data = data_early_year)"
   ]
  }
 ],
 "metadata": {
  "kernelspec": {
   "display_name": "Python 3 (ipykernel)",
   "language": "python",
   "name": "python3"
  },
  "language_info": {
   "codemirror_mode": {
    "name": "ipython",
    "version": 3
   },
   "file_extension": ".py",
   "mimetype": "text/x-python",
   "name": "python",
   "nbconvert_exporter": "python",
   "pygments_lexer": "ipython3",
   "version": "3.12.1"
  }
 },
 "nbformat": 4,
 "nbformat_minor": 5
}
